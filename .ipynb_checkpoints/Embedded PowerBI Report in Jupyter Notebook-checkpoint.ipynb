{
 "cells": [
  {
   "cell_type": "markdown",
   "id": "0af93139",
   "metadata": {},
   "source": [
    "# First install the PowerBIclient library"
   ]
  },
  {
   "cell_type": "code",
   "execution_count": 1,
   "id": "541bd965",
   "metadata": {},
   "outputs": [
    {
     "name": "stdout",
     "output_type": "stream",
     "text": [
      "Requirement already satisfied: powerbiclient in c:\\users\\temidayoomoniyi\\anaconda3\\lib\\site-packages (1.0.0)\n",
      "Requirement already satisfied: jupyter-ui-poll>=0.1.2 in c:\\users\\temidayoomoniyi\\anaconda3\\lib\\site-packages (from powerbiclient) (0.2.1)\n",
      "Requirement already satisfied: requests>=2.25.1 in c:\\users\\temidayoomoniyi\\anaconda3\\lib\\site-packages (from powerbiclient) (2.26.0)\n",
      "Requirement already satisfied: msal>=1.8.0 in c:\\users\\temidayoomoniyi\\anaconda3\\lib\\site-packages (from powerbiclient) (1.17.0)\n",
      "Requirement already satisfied: ipywidgets>=7.0.0 in c:\\users\\temidayoomoniyi\\anaconda3\\lib\\site-packages (from powerbiclient) (7.6.5)\n",
      "Requirement already satisfied: ipykernel>=4.5.1 in c:\\users\\temidayoomoniyi\\anaconda3\\lib\\site-packages (from ipywidgets>=7.0.0->powerbiclient) (6.4.1)\n",
      "Requirement already satisfied: nbformat>=4.2.0 in c:\\users\\temidayoomoniyi\\anaconda3\\lib\\site-packages (from ipywidgets>=7.0.0->powerbiclient) (5.1.3)\n",
      "Requirement already satisfied: jupyterlab-widgets>=1.0.0 in c:\\users\\temidayoomoniyi\\anaconda3\\lib\\site-packages (from ipywidgets>=7.0.0->powerbiclient) (1.0.0)\n",
      "Requirement already satisfied: ipython>=4.0.0 in c:\\users\\temidayoomoniyi\\anaconda3\\lib\\site-packages (from ipywidgets>=7.0.0->powerbiclient) (7.29.0)\n",
      "Requirement already satisfied: traitlets>=4.3.1 in c:\\users\\temidayoomoniyi\\anaconda3\\lib\\site-packages (from ipywidgets>=7.0.0->powerbiclient) (5.1.0)\n",
      "Requirement already satisfied: ipython-genutils~=0.2.0 in c:\\users\\temidayoomoniyi\\anaconda3\\lib\\site-packages (from ipywidgets>=7.0.0->powerbiclient) (0.2.0)\n",
      "Requirement already satisfied: widgetsnbextension~=3.5.0 in c:\\users\\temidayoomoniyi\\anaconda3\\lib\\site-packages (from ipywidgets>=7.0.0->powerbiclient) (3.5.1)\n",
      "Requirement already satisfied: tornado<7.0,>=4.2 in c:\\users\\temidayoomoniyi\\anaconda3\\lib\\site-packages (from ipykernel>=4.5.1->ipywidgets>=7.0.0->powerbiclient) (6.1)\n",
      "Requirement already satisfied: jupyter-client<8.0 in c:\\users\\temidayoomoniyi\\anaconda3\\lib\\site-packages (from ipykernel>=4.5.1->ipywidgets>=7.0.0->powerbiclient) (6.1.12)\n",
      "Requirement already satisfied: debugpy<2.0,>=1.0.0 in c:\\users\\temidayoomoniyi\\anaconda3\\lib\\site-packages (from ipykernel>=4.5.1->ipywidgets>=7.0.0->powerbiclient) (1.4.1)\n",
      "Requirement already satisfied: matplotlib-inline<0.2.0,>=0.1.0 in c:\\users\\temidayoomoniyi\\anaconda3\\lib\\site-packages (from ipykernel>=4.5.1->ipywidgets>=7.0.0->powerbiclient) (0.1.2)\n",
      "Requirement already satisfied: decorator in c:\\users\\temidayoomoniyi\\anaconda3\\lib\\site-packages (from ipython>=4.0.0->ipywidgets>=7.0.0->powerbiclient) (5.1.0)\n",
      "Requirement already satisfied: jedi>=0.16 in c:\\users\\temidayoomoniyi\\anaconda3\\lib\\site-packages (from ipython>=4.0.0->ipywidgets>=7.0.0->powerbiclient) (0.18.0)\n",
      "Requirement already satisfied: prompt-toolkit!=3.0.0,!=3.0.1,<3.1.0,>=2.0.0 in c:\\users\\temidayoomoniyi\\anaconda3\\lib\\site-packages (from ipython>=4.0.0->ipywidgets>=7.0.0->powerbiclient) (3.0.20)\n",
      "Requirement already satisfied: colorama in c:\\users\\temidayoomoniyi\\anaconda3\\lib\\site-packages (from ipython>=4.0.0->ipywidgets>=7.0.0->powerbiclient) (0.4.4)\n",
      "Requirement already satisfied: setuptools>=18.5 in c:\\users\\temidayoomoniyi\\anaconda3\\lib\\site-packages (from ipython>=4.0.0->ipywidgets>=7.0.0->powerbiclient) (58.0.4)\n",
      "Requirement already satisfied: backcall in c:\\users\\temidayoomoniyi\\anaconda3\\lib\\site-packages (from ipython>=4.0.0->ipywidgets>=7.0.0->powerbiclient) (0.2.0)\n",
      "Requirement already satisfied: pygments in c:\\users\\temidayoomoniyi\\anaconda3\\lib\\site-packages (from ipython>=4.0.0->ipywidgets>=7.0.0->powerbiclient) (2.10.0)\n",
      "Requirement already satisfied: pickleshare in c:\\users\\temidayoomoniyi\\anaconda3\\lib\\site-packages (from ipython>=4.0.0->ipywidgets>=7.0.0->powerbiclient) (0.7.5)\n",
      "Requirement already satisfied: parso<0.9.0,>=0.8.0 in c:\\users\\temidayoomoniyi\\anaconda3\\lib\\site-packages (from jedi>=0.16->ipython>=4.0.0->ipywidgets>=7.0.0->powerbiclient) (0.8.2)\n",
      "Requirement already satisfied: python-dateutil>=2.1 in c:\\users\\temidayoomoniyi\\anaconda3\\lib\\site-packages (from jupyter-client<8.0->ipykernel>=4.5.1->ipywidgets>=7.0.0->powerbiclient) (2.8.2)\n",
      "Requirement already satisfied: pyzmq>=13 in c:\\users\\temidayoomoniyi\\anaconda3\\lib\\site-packages (from jupyter-client<8.0->ipykernel>=4.5.1->ipywidgets>=7.0.0->powerbiclient) (22.2.1)\n",
      "Requirement already satisfied: jupyter-core>=4.6.0 in c:\\users\\temidayoomoniyi\\anaconda3\\lib\\site-packages (from jupyter-client<8.0->ipykernel>=4.5.1->ipywidgets>=7.0.0->powerbiclient) (4.8.1)\n",
      "Requirement already satisfied: pywin32>=1.0 in c:\\users\\temidayoomoniyi\\anaconda3\\lib\\site-packages (from jupyter-core>=4.6.0->jupyter-client<8.0->ipykernel>=4.5.1->ipywidgets>=7.0.0->powerbiclient) (228)\n",
      "Requirement already satisfied: cryptography<39,>=0.6 in c:\\users\\temidayoomoniyi\\anaconda3\\lib\\site-packages (from msal>=1.8.0->powerbiclient) (3.4.8)\n",
      "Requirement already satisfied: PyJWT[crypto]<3,>=1.0.0 in c:\\users\\temidayoomoniyi\\anaconda3\\lib\\site-packages (from msal>=1.8.0->powerbiclient) (2.1.0)\n",
      "Requirement already satisfied: cffi>=1.12 in c:\\users\\temidayoomoniyi\\anaconda3\\lib\\site-packages (from cryptography<39,>=0.6->msal>=1.8.0->powerbiclient) (1.14.6)\n",
      "Requirement already satisfied: pycparser in c:\\users\\temidayoomoniyi\\anaconda3\\lib\\site-packages (from cffi>=1.12->cryptography<39,>=0.6->msal>=1.8.0->powerbiclient) (2.20)\n",
      "Requirement already satisfied: jsonschema!=2.5.0,>=2.4 in c:\\users\\temidayoomoniyi\\anaconda3\\lib\\site-packages (from nbformat>=4.2.0->ipywidgets>=7.0.0->powerbiclient) (3.2.0)\n",
      "Requirement already satisfied: six>=1.11.0 in c:\\users\\temidayoomoniyi\\anaconda3\\lib\\site-packages (from jsonschema!=2.5.0,>=2.4->nbformat>=4.2.0->ipywidgets>=7.0.0->powerbiclient) (1.16.0)\n",
      "Requirement already satisfied: pyrsistent>=0.14.0 in c:\\users\\temidayoomoniyi\\anaconda3\\lib\\site-packages (from jsonschema!=2.5.0,>=2.4->nbformat>=4.2.0->ipywidgets>=7.0.0->powerbiclient) (0.18.0)\n",
      "Requirement already satisfied: attrs>=17.4.0 in c:\\users\\temidayoomoniyi\\anaconda3\\lib\\site-packages (from jsonschema!=2.5.0,>=2.4->nbformat>=4.2.0->ipywidgets>=7.0.0->powerbiclient) (21.2.0)\n",
      "Requirement already satisfied: wcwidth in c:\\users\\temidayoomoniyi\\anaconda3\\lib\\site-packages (from prompt-toolkit!=3.0.0,!=3.0.1,<3.1.0,>=2.0.0->ipython>=4.0.0->ipywidgets>=7.0.0->powerbiclient) (0.2.5)\n",
      "Requirement already satisfied: idna<4,>=2.5 in c:\\users\\temidayoomoniyi\\anaconda3\\lib\\site-packages (from requests>=2.25.1->powerbiclient) (3.2)\n",
      "Requirement already satisfied: certifi>=2017.4.17 in c:\\users\\temidayoomoniyi\\anaconda3\\lib\\site-packages (from requests>=2.25.1->powerbiclient) (2021.10.8)\n",
      "Requirement already satisfied: charset-normalizer~=2.0.0 in c:\\users\\temidayoomoniyi\\anaconda3\\lib\\site-packages (from requests>=2.25.1->powerbiclient) (2.0.4)\n",
      "Requirement already satisfied: urllib3<1.27,>=1.21.1 in c:\\users\\temidayoomoniyi\\anaconda3\\lib\\site-packages (from requests>=2.25.1->powerbiclient) (1.26.7)\n",
      "Requirement already satisfied: notebook>=4.4.1 in c:\\users\\temidayoomoniyi\\anaconda3\\lib\\site-packages (from widgetsnbextension~=3.5.0->ipywidgets>=7.0.0->powerbiclient) (6.4.5)\n",
      "Requirement already satisfied: jinja2 in c:\\users\\temidayoomoniyi\\anaconda3\\lib\\site-packages (from notebook>=4.4.1->widgetsnbextension~=3.5.0->ipywidgets>=7.0.0->powerbiclient) (2.11.3)\n",
      "Requirement already satisfied: Send2Trash>=1.5.0 in c:\\users\\temidayoomoniyi\\anaconda3\\lib\\site-packages (from notebook>=4.4.1->widgetsnbextension~=3.5.0->ipywidgets>=7.0.0->powerbiclient) (1.8.0)\n",
      "Requirement already satisfied: nbconvert in c:\\users\\temidayoomoniyi\\anaconda3\\lib\\site-packages (from notebook>=4.4.1->widgetsnbextension~=3.5.0->ipywidgets>=7.0.0->powerbiclient) (6.1.0)\n",
      "Requirement already satisfied: prometheus-client in c:\\users\\temidayoomoniyi\\anaconda3\\lib\\site-packages (from notebook>=4.4.1->widgetsnbextension~=3.5.0->ipywidgets>=7.0.0->powerbiclient) (0.11.0)\n",
      "Requirement already satisfied: argon2-cffi in c:\\users\\temidayoomoniyi\\anaconda3\\lib\\site-packages (from notebook>=4.4.1->widgetsnbextension~=3.5.0->ipywidgets>=7.0.0->powerbiclient) (20.1.0)\n",
      "Requirement already satisfied: terminado>=0.8.3 in c:\\users\\temidayoomoniyi\\anaconda3\\lib\\site-packages (from notebook>=4.4.1->widgetsnbextension~=3.5.0->ipywidgets>=7.0.0->powerbiclient) (0.9.4)\n",
      "Requirement already satisfied: pywinpty>=0.5 in c:\\users\\temidayoomoniyi\\anaconda3\\lib\\site-packages (from terminado>=0.8.3->notebook>=4.4.1->widgetsnbextension~=3.5.0->ipywidgets>=7.0.0->powerbiclient) (0.5.7)\n",
      "Requirement already satisfied: MarkupSafe>=0.23 in c:\\users\\temidayoomoniyi\\anaconda3\\lib\\site-packages (from jinja2->notebook>=4.4.1->widgetsnbextension~=3.5.0->ipywidgets>=7.0.0->powerbiclient) (1.1.1)\n",
      "Requirement already satisfied: jupyterlab-pygments in c:\\users\\temidayoomoniyi\\anaconda3\\lib\\site-packages (from nbconvert->notebook>=4.4.1->widgetsnbextension~=3.5.0->ipywidgets>=7.0.0->powerbiclient) (0.1.2)\n",
      "Requirement already satisfied: nbclient<0.6.0,>=0.5.0 in c:\\users\\temidayoomoniyi\\anaconda3\\lib\\site-packages (from nbconvert->notebook>=4.4.1->widgetsnbextension~=3.5.0->ipywidgets>=7.0.0->powerbiclient) (0.5.3)\n",
      "Requirement already satisfied: pandocfilters>=1.4.1 in c:\\users\\temidayoomoniyi\\anaconda3\\lib\\site-packages (from nbconvert->notebook>=4.4.1->widgetsnbextension~=3.5.0->ipywidgets>=7.0.0->powerbiclient) (1.4.3)\n",
      "Requirement already satisfied: mistune<2,>=0.8.1 in c:\\users\\temidayoomoniyi\\anaconda3\\lib\\site-packages (from nbconvert->notebook>=4.4.1->widgetsnbextension~=3.5.0->ipywidgets>=7.0.0->powerbiclient) (0.8.4)\n",
      "Requirement already satisfied: bleach in c:\\users\\temidayoomoniyi\\anaconda3\\lib\\site-packages (from nbconvert->notebook>=4.4.1->widgetsnbextension~=3.5.0->ipywidgets>=7.0.0->powerbiclient) (4.0.0)\n",
      "Requirement already satisfied: defusedxml in c:\\users\\temidayoomoniyi\\anaconda3\\lib\\site-packages (from nbconvert->notebook>=4.4.1->widgetsnbextension~=3.5.0->ipywidgets>=7.0.0->powerbiclient) (0.7.1)\n",
      "Requirement already satisfied: testpath in c:\\users\\temidayoomoniyi\\anaconda3\\lib\\site-packages (from nbconvert->notebook>=4.4.1->widgetsnbextension~=3.5.0->ipywidgets>=7.0.0->powerbiclient) (0.5.0)\n",
      "Requirement already satisfied: entrypoints>=0.2.2 in c:\\users\\temidayoomoniyi\\anaconda3\\lib\\site-packages (from nbconvert->notebook>=4.4.1->widgetsnbextension~=3.5.0->ipywidgets>=7.0.0->powerbiclient) (0.3)\n",
      "Requirement already satisfied: nest-asyncio in c:\\users\\temidayoomoniyi\\anaconda3\\lib\\site-packages (from nbclient<0.6.0,>=0.5.0->nbconvert->notebook>=4.4.1->widgetsnbextension~=3.5.0->ipywidgets>=7.0.0->powerbiclient) (1.5.1)\n",
      "Requirement already satisfied: async-generator in c:\\users\\temidayoomoniyi\\anaconda3\\lib\\site-packages (from nbclient<0.6.0,>=0.5.0->nbconvert->notebook>=4.4.1->widgetsnbextension~=3.5.0->ipywidgets>=7.0.0->powerbiclient) (1.10)\n",
      "Requirement already satisfied: packaging in c:\\users\\temidayoomoniyi\\anaconda3\\lib\\site-packages (from bleach->nbconvert->notebook>=4.4.1->widgetsnbextension~=3.5.0->ipywidgets>=7.0.0->powerbiclient) (21.0)\n",
      "Requirement already satisfied: webencodings in c:\\users\\temidayoomoniyi\\anaconda3\\lib\\site-packages (from bleach->nbconvert->notebook>=4.4.1->widgetsnbextension~=3.5.0->ipywidgets>=7.0.0->powerbiclient) (0.5.1)\n",
      "Requirement already satisfied: pyparsing>=2.0.2 in c:\\users\\temidayoomoniyi\\anaconda3\\lib\\site-packages (from packaging->bleach->nbconvert->notebook>=4.4.1->widgetsnbextension~=3.5.0->ipywidgets>=7.0.0->powerbiclient) (3.0.4)\n"
     ]
    }
   ],
   "source": [
    "!pip install powerbiclient"
   ]
  },
  {
   "cell_type": "code",
   "execution_count": 1,
   "id": "1d624270",
   "metadata": {},
   "outputs": [],
   "source": [
    "#import all necessary library\n",
    "from powerbiclient import Report"
   ]
  },
  {
   "cell_type": "code",
   "execution_count": 2,
   "id": "8e82d1a5",
   "metadata": {},
   "outputs": [],
   "source": [
    "#Put the group id and report id gotten from the powerBI web service\n",
    "\n",
    "group_id = \"cc3ee67b-7c68-4f0a-9990-8cb5c36a618b\"\n",
    "report_id =  \"c94c95df-05f9-412a-9111-ac9b9e21bd5a\""
   ]
  },
  {
   "cell_type": "code",
   "execution_count": null,
   "id": "867e86e7",
   "metadata": {},
   "outputs": [
    {
     "name": "stdout",
     "output_type": "stream",
     "text": [
      "Performing interactive authentication. Please follow the instructions on the terminal.\n",
      " To sign in, use a web browser to open the page https://microsoft.com/devicelogin and enter the code D48FYGM7X to authenticate.\n"
     ]
    }
   ],
   "source": [
    "# Authenticate the device to embed\n",
    "from powerbiclient.authentication import DeviceCodeLoginAuthentication\n",
    " \n",
    "# Initiate device authentication\n",
    "device_auth = DeviceCodeLoginAuthentication()"
   ]
  },
  {
   "cell_type": "code",
   "execution_count": 4,
   "id": "5799df03",
   "metadata": {},
   "outputs": [
    {
     "data": {
      "application/vnd.jupyter.widget-view+json": {
       "model_id": "ecb95e04e82142cd80e1805cb719097e",
       "version_major": 2,
       "version_minor": 0
      },
      "text/plain": [
       "Report()"
      ]
     },
     "metadata": {},
     "output_type": "display_data"
    }
   ],
   "source": [
    "# Generate the report\n",
    "report = Report(group_id=group_id, report_id=report_id, auth=device_auth)\n",
    "report"
   ]
  },
  {
   "cell_type": "code",
   "execution_count": null,
   "id": "ac65fb9f",
   "metadata": {},
   "outputs": [],
   "source": []
  }
 ],
 "metadata": {
  "kernelspec": {
   "display_name": "Python 3 (ipykernel)",
   "language": "python",
   "name": "python3"
  },
  "language_info": {
   "codemirror_mode": {
    "name": "ipython",
    "version": 3
   },
   "file_extension": ".py",
   "mimetype": "text/x-python",
   "name": "python",
   "nbconvert_exporter": "python",
   "pygments_lexer": "ipython3",
   "version": "3.9.7"
  }
 },
 "nbformat": 4,
 "nbformat_minor": 5
}
